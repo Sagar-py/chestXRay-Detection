{
 "cells": [
  {
   "cell_type": "markdown",
   "id": "otherwise-investigation",
   "metadata": {},
   "source": [
    "# Chest X-ray Abnormalities Detection"
   ]
  },
  {
   "cell_type": "markdown",
   "id": "blank-skirt",
   "metadata": {},
   "source": [
    "**ECE-GY 9123 | Deep Learning**\n",
    "\n",
    "**Spring 2021**"
   ]
  },
  {
   "cell_type": "markdown",
   "id": "talented-circulation",
   "metadata": {},
   "source": [
    "#### TEAM MEMBERS\n",
    "\n",
    "**Kunwar Srivastav** (kss519)\n",
    "\n",
    "**Sagar Patel** (sp5894)"
   ]
  },
  {
   "cell_type": "markdown",
   "id": "advanced-baltimore",
   "metadata": {},
   "source": [
    "## Table of Contents\n",
    "\n",
    "- [Dataset Preparation](#Dataset-Preparation)\n",
    "- [Installation](#Installation)\n",
    "- [Training Method](#Training-Method)\n",
    "- Customizing the detectron2 trainer\n",
    "    - Mapper for Augmentation\n",
    "    - Evaluator\n",
    "    - Loss Evaluation Hook\n",
    "- Loading Data\n",
    "- Data Visualization\n",
    "- Training\n",
    "- Visualize Loss Curve and AP40\n",
    "- Visualization of augmentation by *Mapper*"
   ]
  },
  {
   "cell_type": "markdown",
   "id": "inside-spare",
   "metadata": {},
   "source": [
    "## Dataset Preparation"
   ]
  },
  {
   "cell_type": "markdown",
   "id": "starting-providence",
   "metadata": {},
   "source": [
    "Preprocessing X-ray image format (dicom) into normal format is already done by kaggle user [xhulu](https://www.kaggle.com/xhlulu) and can be accessed from here:\n",
    "\n",
    "> [Multiple Preprocessed Datasets](https://www.kaggle.com/c/vinbigdata-chest-xray-abnormalities-detection/discussion/207955)\n",
    "\n",
    "Here, we will be using the dataset [VinBigData Chest X-ray Resized PNG (256 x 256)](https://www.kaggle.com/xhlulu/vinbigdata-chest-xray-resized-png-256x256) to skip the preprocessing and focus on the modeling part."
   ]
  },
  {
   "cell_type": "code",
   "execution_count": null,
   "id": "hidden-stewart",
   "metadata": {},
   "outputs": [],
   "source": [
    "import gc\n",
    "import os\n",
    "from pathlib import Path\n",
    "import random\n",
    "import sys"
   ]
  },
  {
   "cell_type": "code",
   "execution_count": null,
   "id": "driven-balloon",
   "metadata": {},
   "outputs": [],
   "source": [
    "from tqdm.notebook import tqdm\n",
    "import numpy as np\n",
    "import pandas as pd\n",
    "import scipy as sp"
   ]
  },
  {
   "cell_type": "code",
   "execution_count": null,
   "id": "backed-double",
   "metadata": {},
   "outputs": [],
   "source": [
    "import matplotlib.pyplot as plt\n",
    "import seaborn as sns\n",
    "\n",
    "from IPython.core.display import display, HTML"
   ]
  },
  {
   "cell_type": "code",
   "execution_count": null,
   "id": "brilliant-growth",
   "metadata": {},
   "outputs": [],
   "source": [
    "from plotly import tools, subplots\n",
    "import plotly.offline as py\n",
    "\n",
    "py.init_notebook_mode(connected=True)\n",
    "import plotly.graph_objs as go\n",
    "import plotly.express as px\n",
    "import plotly.figure_factory as ff\n",
    "import plotly.io as pio\n",
    "pio.templates.default = \"plotly_dark\""
   ]
  },
  {
   "cell_type": "code",
   "execution_count": null,
   "id": "editorial-houston",
   "metadata": {},
   "outputs": [],
   "source": [
    "from sklearn import preprocessing\n",
    "from sklearn.model_selection import KFold\n",
    "import lightgbm as lgb\n",
    "import xgboost as xgb\n",
    "import catboost as cb"
   ]
  },
  {
   "cell_type": "code",
   "execution_count": null,
   "id": "protective-junction",
   "metadata": {},
   "outputs": [],
   "source": [
    "pd.set_option('max_columns', 50)"
   ]
  },
  {
   "cell_type": "markdown",
   "id": "discrete-anthropology",
   "metadata": {},
   "source": [
    "## Installation"
   ]
  },
  {
   "cell_type": "markdown",
   "id": "pleasant-newsletter",
   "metadata": {},
   "source": [
    "To install detectron2, we can follow the given [installation instruction](https://github.com/facebookresearch/detectron2/blob/master/INSTALL.md). Note that we will need to know the right version of `CUDA` and `pytorch` to install `detectron2`."
   ]
  },
  {
   "cell_type": "code",
   "execution_count": null,
   "id": "absolute-motion",
   "metadata": {},
   "outputs": [],
   "source": [
    "!pip install pyyaml==5.1\n",
    "!pip install torch==1.7.1 torchvision==0.8.2\n",
    "\n",
    "import torch, torchvision\n",
    "print(torch.__version__, torch.cuda.is_available())\n",
    "!gcc --version"
   ]
  },
  {
   "cell_type": "code",
   "execution_count": null,
   "id": "accepting-arrival",
   "metadata": {},
   "outputs": [],
   "source": [
    "import torch\n",
    "assert torch.__version__.startswith(\"1.7\")\n",
    "\n",
    "!pip install detectron2 -f https://dl.fbaipublicfiles.com/detectron2/wheels/cu101/torch1.7/index.html"
   ]
  },
  {
   "cell_type": "markdown",
   "id": "official-masters",
   "metadata": {},
   "source": [
    "## Training Method"
   ]
  },
  {
   "cell_type": "markdown",
   "id": "seeing-cutting",
   "metadata": {},
   "source": []
  }
 ],
 "metadata": {
  "kernelspec": {
   "display_name": "Python 3",
   "language": "python",
   "name": "python3"
  },
  "language_info": {
   "codemirror_mode": {
    "name": "ipython",
    "version": 3
   },
   "file_extension": ".py",
   "mimetype": "text/x-python",
   "name": "python",
   "nbconvert_exporter": "python",
   "pygments_lexer": "ipython3",
   "version": "3.9.1"
  }
 },
 "nbformat": 4,
 "nbformat_minor": 5
}
